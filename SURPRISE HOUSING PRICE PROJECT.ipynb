{
 "cells": [
  {
   "cell_type": "markdown",
   "id": "29eb0bc2",
   "metadata": {},
   "source": [
    "# SURPRISE HOUSING PRICE PROJECT"
   ]
  },
  {
   "cell_type": "code",
   "execution_count": null,
   "id": "f52036c9",
   "metadata": {},
   "outputs": [],
   "source": [
    "# Imports\n",
    "import numpy as np\n",
    "import pandas as pd\n",
    "import seaborn as sns\n",
    "import matplotlib.pyplot as plt\n",
    "from scipy.stats import skew\n",
    "from scipy.stats.stats import pearsonr\n",
    "from sklearn import ensemble, tree, linear_model,cross_validation\n",
    "from sklearn.model_selection import GridSearchCV\n",
    "import xgboost as xgboost\n",
    "import warnings\n",
    "warnings.filterwarnings('ignore')\n",
    "\n",
    "\n",
    "%matplotlib inline\n"
   ]
  },
  {
   "cell_type": "code",
   "execution_count": null,
   "id": "12129097",
   "metadata": {},
   "outputs": [],
   "source": [
    "#Getting Data\n",
    "\n",
    "train_predictors = pd.read_csv('train.csv')\n",
    "test_predictors = pd.read_csv('test.csv')\n",
    "print(\"train : \" + str(train_predictors.shape))\n",
    "print(\"test : \" + str(test_predictors.shape))"
   ]
  },
  {
   "cell_type": "code",
   "execution_count": null,
   "id": "c853bad4",
   "metadata": {},
   "outputs": [],
   "source": [
    "#Get Correlations\n",
    "\n",
    "correlations = train_predictors.corr()\n",
    "correlations = correlations[\"SalePrice\"].sort_values(ascending=False)\n",
    "correlations"
   ]
  },
  {
   "cell_type": "code",
   "execution_count": null,
   "id": "c34e1e26",
   "metadata": {},
   "outputs": [],
   "source": [
    "#Drop Target variable from Train Data set\n",
    "train_target = train_predictors['SalePrice']\n",
    "#train_predictors = train.drop(['SalePrice'],axis=1)"
   ]
  },
  {
   "cell_type": "code",
   "execution_count": null,
   "id": "f48bd430",
   "metadata": {},
   "outputs": [],
   "source": []
  },
  {
   "cell_type": "code",
   "execution_count": null,
   "id": "27c992b5",
   "metadata": {},
   "outputs": [],
   "source": [
    "train_ID = train_predictors['Id']\n",
    "test_ID = test_predictors['Id']"
   ]
  },
  {
   "cell_type": "code",
   "execution_count": null,
   "id": "99da45e6",
   "metadata": {},
   "outputs": [],
   "source": [
    "# Drop Id column from train and test data sets\n",
    "train_predictors.drop(\"Id\", axis = 1, inplace = True)\n",
    "test_predictors.drop(\"Id\", axis = 1, inplace = True)"
   ]
  },
  {
   "cell_type": "code",
   "execution_count": null,
   "id": "3f420537",
   "metadata": {},
   "outputs": [],
   "source": [
    "train_predictors.head(10)"
   ]
  },
  {
   "cell_type": "code",
   "execution_count": null,
   "id": "5d4fcd70",
   "metadata": {},
   "outputs": [],
   "source": [
    "plt.scatter(train_predictors.GrLivArea, train_predictors.SalePrice, c= 'red')\n",
    "plt.title(\"Outliers\")\n",
    "plt.xlabel(\"GrLivArea\")\n",
    "plt.ylabel(\"SalePrice\")\n",
    "plt.show()"
   ]
  },
  {
   "cell_type": "code",
   "execution_count": null,
   "id": "06375323",
   "metadata": {},
   "outputs": [],
   "source": [
    "train_predictors = train_predictors[train_predictors.GrLivArea < 4000]"
   ]
  },
  {
   "cell_type": "code",
   "execution_count": null,
   "id": "1c9cd12a",
   "metadata": {},
   "outputs": [],
   "source": [
    "train_target = train_predictors['SalePrice']\n",
    "sns.distplot(train_target)"
   ]
  },
  {
   "cell_type": "code",
   "execution_count": null,
   "id": "31828bd3",
   "metadata": {},
   "outputs": [],
   "source": [
    "sns.distplot(np.log(train_target))\n",
    "#Applying log will reduce the effect of Cheap and expensive houses on the models"
   ]
  },
  {
   "cell_type": "code",
   "execution_count": null,
   "id": "d366e389",
   "metadata": {},
   "outputs": [],
   "source": [
    "train_target_final = np.log(train_target)"
   ]
  },
  {
   "cell_type": "code",
   "execution_count": null,
   "id": "6c546015",
   "metadata": {},
   "outputs": [],
   "source": [
    "train_predictors_missing = pd.isna(train_predictors).sum()\n",
    "test_missing = pd.isna(test_predictors).sum()\n",
    "\n",
    "missing = pd.concat([train_predictors_missing, test_missing], axis=1, keys=[\"Train\", \"Test\"])\n",
    "\n",
    "\n",
    "missing_values = missing[missing.sum(axis=1) > 0]  #Missing Values\n",
    "missing_values"
   ]
  },
  {
   "cell_type": "code",
   "execution_count": null,
   "id": "bdb20cba",
   "metadata": {},
   "outputs": [],
   "source": [
    "#There are some features which are categorical and whose missing values are meaningful these we can know by looking Description of Data\n",
    "\n",
    "meaningful_missing = [\"Alley\", \"BsmtQual\", \"BsmtCond\", \"BsmtExposure\", \"BsmtFinType1\", \n",
    "                    \"BsmtFinType2\", \"FireplaceQu\", \"GarageType\", \"GarageFinish\", \"GarageQual\", \n",
    "                    \"GarageCond\", \"Fence\",\"PoolQC\", \"MiscFeature\"]"
   ]
  },
  {
   "cell_type": "code",
   "execution_count": null,
   "id": "ed055abd",
   "metadata": {},
   "outputs": [],
   "source": [
    "for i in meaningful_missing:\n",
    "    train_predictors[i].fillna(\"None\", inplace=True)\n",
    "    test_predictors[i].fillna(\"None\", inplace=True)"
   ]
  },
  {
   "cell_type": "code",
   "execution_count": null,
   "id": "3e6faccd",
   "metadata": {},
   "outputs": [],
   "source": [
    "train_predictors.head(10)"
   ]
  },
  {
   "cell_type": "code",
   "execution_count": null,
   "id": "fe98c03e",
   "metadata": {},
   "outputs": [],
   "source": [
    "train_missing1 = pd.isna(train_predictors).sum()\n",
    "test_missing1 = pd.isna(test_predictors).sum()\n",
    "\n",
    "missing1 = pd.concat([train_missing1, test_missing1], axis=1, keys=[\"Train\", \"Test\"])\n",
    "\n",
    "\n",
    "missing1_values = missing1[missing1.sum(axis=1) > 0]  #Missing Values\n",
    "missing1_values"
   ]
  },
  {
   "cell_type": "code",
   "execution_count": null,
   "id": "99885597",
   "metadata": {},
   "outputs": [],
   "source": [
    "#LotFrontage which is Numeric value has many missing values so we remove it\n",
    "train_predictors.drop(\"LotFrontage\", axis=1, inplace=True)\n",
    "test_predictors.drop(\"LotFrontage\", axis=1, inplace=True)"
   ]
  },
  {
   "cell_type": "code",
   "execution_count": null,
   "id": "6f435949",
   "metadata": {},
   "outputs": [],
   "source": [
    "train_predictors.columns"
   ]
  },
  {
   "cell_type": "code",
   "execution_count": null,
   "id": "3b0de0af",
   "metadata": {},
   "outputs": [],
   "source": [
    "test_predictors.shape"
   ]
  },
  {
   "cell_type": "code",
   "execution_count": null,
   "id": "a6798103",
   "metadata": {},
   "outputs": [],
   "source": [
    "train_predictors.shape"
   ]
  },
  {
   "cell_type": "code",
   "execution_count": null,
   "id": "fae4af62",
   "metadata": {},
   "outputs": [],
   "source": [
    "numeric_features_train = train_predictors.select_dtypes(include=[np.number])\n",
    "\n",
    "numeric_features_test = test_predictors.select_dtypes(include=[np.number])"
   ]
  },
  {
   "cell_type": "code",
   "execution_count": null,
   "id": "24d9bae4",
   "metadata": {},
   "outputs": [],
   "source": [
    "numeric_features_train.columns"
   ]
  },
  {
   "cell_type": "code",
   "execution_count": null,
   "id": "d0270878",
   "metadata": {},
   "outputs": [],
   "source": [
    "numeric_features_test.columns"
   ]
  },
  {
   "cell_type": "code",
   "execution_count": null,
   "id": "094a0dd6",
   "metadata": {},
   "outputs": [],
   "source": [
    "# There are some Numerical features in the data set which are actually categorical, \n",
    "#They are MSSubClass and MoSold (Month sold)\n",
    "#we need to convert them into categorical\n",
    "train_predictors = train_predictors.replace({\"MSSubClass\" : {20 : \"SC20\", 30 : \"SC30\", 40 : \"SC40\", 45 : \"SC45\", \n",
    "                                       50 : \"SC50\", 60 : \"SC60\", 70 : \"SC70\", 75 : \"SC75\", \n",
    "                                       80 : \"SC80\", 85 : \"SC85\", 90 : \"SC90\", 120 : \"SC120\", \n",
    "                                       150 : \"SC150\", 160 : \"SC160\", 180 : \"SC180\", 190 : \"SC190\"},\n",
    "                       \"MoSold\" : {1 : \"Jan\", 2 : \"Feb\", 3 : \"Mar\", 4 : \"Apr\", 5 : \"May\", 6 : \"Jun\",\n",
    "                                   7 : \"Jul\", 8 : \"Aug\", 9 : \"Sep\", 10 : \"Oct\", 11 : \"Nov\", 12 : \"Dec\"}\n",
    "                      })\n",
    "\n",
    "test_predictors = test_predictors.replace({\"MSSubClass\" : {20 : \"SC20\", 30 : \"SC30\", 40 : \"SC40\", 45 : \"SC45\", \n",
    "                                       50 : \"SC50\", 60 : \"SC60\", 70 : \"SC70\", 75 : \"SC75\", \n",
    "                                       80 : \"SC80\", 85 : \"SC85\", 90 : \"SC90\", 120 : \"SC120\", \n",
    "                                       150 : \"SC150\", 160 : \"SC160\", 180 : \"SC180\", 190 : \"SC190\"},\n",
    "                       \"MoSold\" : {1 : \"Jan\", 2 : \"Feb\", 3 : \"Mar\", 4 : \"Apr\", 5 : \"May\", 6 : \"Jun\",\n",
    "                                   7 : \"Jul\", 8 : \"Aug\", 9 : \"Sep\", 10 : \"Oct\", 11 : \"Nov\", 12 : \"Dec\"}\n",
    "                      })"
   ]
  },
  {
   "cell_type": "code",
   "execution_count": null,
   "id": "79e88c69",
   "metadata": {},
   "outputs": [],
   "source": [
    "#Drop Target variable from Train Data set\n",
    "train_predictors = train_predictors.drop(['SalePrice'],axis=1)"
   ]
  },
  {
   "cell_type": "code",
   "execution_count": null,
   "id": "fc0ce175",
   "metadata": {},
   "outputs": [],
   "source": [
    "numeric_features_train = train_predictors.select_dtypes(include=[np.number])\n",
    "\n",
    "numeric_features_test = test_predictors.select_dtypes(include=[np.number])"
   ]
  },
  {
   "cell_type": "code",
   "execution_count": null,
   "id": "d39eb13d",
   "metadata": {},
   "outputs": [],
   "source": [
    "categorical_features_train = train_predictors.select_dtypes(include=[object])\n",
    "\n",
    "categorical_features_test = test_predictors.select_dtypes(include=[object])"
   ]
  },
  {
   "cell_type": "code",
   "execution_count": null,
   "id": "9fa0c51d",
   "metadata": {},
   "outputs": [],
   "source": [
    "numeric_features_train.columns"
   ]
  },
  {
   "cell_type": "code",
   "execution_count": null,
   "id": "16482692",
   "metadata": {},
   "outputs": [],
   "source": [
    "numeric_features_train.fillna(numeric_features_train.mean(),inplace=True)\n",
    "numeric_features_test.fillna(numeric_features_test.mean(),inplace=True)"
   ]
  },
  {
   "cell_type": "code",
   "execution_count": null,
   "id": "caa3ce12",
   "metadata": {},
   "outputs": [],
   "source": [
    "numeric_features_train.shape"
   ]
  },
  {
   "cell_type": "code",
   "execution_count": null,
   "id": "7c274986",
   "metadata": {},
   "outputs": [],
   "source": [
    "numeric_features_test.shape"
   ]
  },
  {
   "cell_type": "code",
   "execution_count": null,
   "id": "ffcf2053",
   "metadata": {},
   "outputs": [],
   "source": [
    "categorical_features_train.fillna(categorical_features_train.mode(), inplace = True)\n",
    "categorical_features_test.fillna(categorical_features_test.mode(), inplace = True)"
   ]
  },
  {
   "cell_type": "code",
   "execution_count": null,
   "id": "58b12b0d",
   "metadata": {},
   "outputs": [],
   "source": [
    "categorical_features_train.shape"
   ]
  },
  {
   "cell_type": "code",
   "execution_count": null,
   "id": "308cf7a4",
   "metadata": {},
   "outputs": [],
   "source": [
    "categorical_features_test.shape"
   ]
  },
  {
   "cell_type": "code",
   "execution_count": null,
   "id": "2d24a896",
   "metadata": {},
   "outputs": [],
   "source": [
    "#Combining Categorical features of both train and test sets for Encoding\n",
    "categorical_features_traintest = pd.concat([categorical_features_train , categorical_features_test])"
   ]
  },
  {
   "cell_type": "code",
   "execution_count": null,
   "id": "0029abe4",
   "metadata": {},
   "outputs": [],
   "source": [
    "ntrain = categorical_features_train.shape[0]\n",
    "ntrain"
   ]
  },
  {
   "cell_type": "code",
   "execution_count": null,
   "id": "b0f16859",
   "metadata": {},
   "outputs": [],
   "source": [
    "categorical_features_traintest.columns"
   ]
  },
  {
   "cell_type": "code",
   "execution_count": null,
   "id": "891e8fcc",
   "metadata": {},
   "outputs": [],
   "source": [
    "#BackwardDifference Encoder\n",
    "import category_encoders as ce\n",
    "encoder = ce.BackwardDifferenceEncoder(cols=['MSSubClass', 'MSZoning', 'Street', 'Alley', 'LotShape', 'LandContour',\n",
    "       'Utilities', 'LotConfig', 'LandSlope', 'Neighborhood', 'Condition1',\n",
    "       'Condition2', 'BldgType', 'HouseStyle', 'RoofStyle', 'RoofMatl',\n",
    "       'Exterior1st', 'Exterior2nd', 'MasVnrType', 'ExterQual', 'ExterCond',\n",
    "       'Foundation', 'BsmtQual', 'BsmtCond', 'BsmtExposure', 'BsmtFinType1',\n",
    "       'BsmtFinType2', 'Heating', 'HeatingQC', 'CentralAir', 'Electrical',\n",
    "       'KitchenQual', 'Functional', 'FireplaceQu', 'GarageType',\n",
    "       'GarageFinish', 'GarageQual', 'GarageCond', 'PavedDrive', 'PoolQC',\n",
    "       'Fence', 'MiscFeature', 'MoSold', 'SaleType', 'SaleCondition'])\n",
    "categorical_encoded = encoder.fit_transform(categorical_features_traintest)\n",
    "\n",
    "categorical_encoded.head()"
   ]
  },
  {
   "cell_type": "code",
   "execution_count": null,
   "id": "888f355e",
   "metadata": {},
   "outputs": [],
   "source": [
    "#Separating Categorical features of Train and test data sets after encoding\n",
    "categorical_train_encoded = categorical_encoded[:ntrain]\n",
    "categorical_test_encoded = categorical_encoded[ntrain:]"
   ]
  },
  {
   "cell_type": "code",
   "execution_count": null,
   "id": "b1b6c3e3",
   "metadata": {},
   "outputs": [],
   "source": [
    "final_train = pd.concat([numeric_features_train, categorical_train_encoded],axis=1)\n",
    "final_test = pd.concat([numeric_features_test, categorical_test_encoded],axis=1)"
   ]
  },
  {
   "cell_type": "code",
   "execution_count": null,
   "id": "dc781534",
   "metadata": {},
   "outputs": [],
   "source": [
    "final_train.head()"
   ]
  },
  {
   "cell_type": "code",
   "execution_count": null,
   "id": "19c198e0",
   "metadata": {},
   "outputs": [],
   "source": [
    "final_train.columns"
   ]
  },
  {
   "cell_type": "code",
   "execution_count": null,
   "id": "ba6d96cd",
   "metadata": {},
   "outputs": [],
   "source": [
    "final_test.columns"
   ]
  },
  {
   "cell_type": "markdown",
   "id": "156d17e2",
   "metadata": {},
   "source": [
    "# FEATURE ENGINEERING"
   ]
  },
  {
   "cell_type": "code",
   "execution_count": null,
   "id": "b7ec8399",
   "metadata": {},
   "outputs": [],
   "source": [
    "#Adding new features to train and test data\n",
    "# Overall quality of the house\n",
    "# Total number of bathrooms\n",
    "final_train[\"TotalBath\"] = final_train[\"BsmtFullBath\"] + (0.5 * final_train[\"BsmtHalfBath\"]) + \\\n",
    "final_train[\"FullBath\"] + (0.5 * final_train[\"HalfBath\"])\n",
    "\n",
    "final_test[\"TotalBath\"] = final_test[\"BsmtFullBath\"] + (0.5 * final_test[\"BsmtHalfBath\"]) + \\\n",
    "final_test[\"FullBath\"] + (0.5 * final_test[\"HalfBath\"])\n",
    "\n",
    "# Total SF for house (incl. basement)\n",
    "final_train[\"AllSF\"] = final_train[\"GrLivArea\"] + final_train[\"TotalBsmtSF\"]\n",
    "\n",
    "final_test[\"AllSF\"] = final_test[\"GrLivArea\"] + final_test[\"TotalBsmtSF\"]\n",
    "\n",
    "# Total SF for 1st + 2nd floors\n",
    "final_train[\"AllFlrsSF\"] = final_train[\"1stFlrSF\"] + final_train[\"2ndFlrSF\"]\n",
    "\n",
    "final_test[\"AllFlrsSF\"] = final_test[\"1stFlrSF\"] + final_test[\"2ndFlrSF\"]\n",
    "\n",
    "# Total SF for porch\n",
    "final_train[\"AllPorchSF\"] = final_train[\"OpenPorchSF\"] + final_train[\"EnclosedPorch\"] + \\\n",
    "final_train[\"3SsnPorch\"] + final_train[\"ScreenPorch\"]\n",
    "\n",
    "final_test[\"AllPorchSF\"] = final_test[\"OpenPorchSF\"] + final_test[\"EnclosedPorch\"] + \\\n",
    "final_test[\"3SsnPorch\"] + final_test[\"ScreenPorch\"]"
   ]
  },
  {
   "cell_type": "code",
   "execution_count": null,
   "id": "42fec3e9",
   "metadata": {},
   "outputs": [],
   "source": [
    "final_train.shape"
   ]
  },
  {
   "cell_type": "code",
   "execution_count": null,
   "id": "74831447",
   "metadata": {},
   "outputs": [],
   "source": [
    "final_test.shape"
   ]
  },
  {
   "cell_type": "markdown",
   "id": "23dfe592",
   "metadata": {},
   "source": [
    "# MODELING"
   ]
  },
  {
   "cell_type": "code",
   "execution_count": null,
   "id": "80d55deb",
   "metadata": {},
   "outputs": [],
   "source": [
    "# Partition the dataset in train + validation sets\n",
    "from sklearn.model_selection import train_test_split #to create validation data set\n",
    "X_train, X_test, y_train, y_test = train_test_split(final_train, train_target_final, test_size = 0.3, random_state = 0)\n",
    "print(\"X_train : \" + str(X_train.shape))\n",
    "print(\"X_test : \" + str(X_test.shape))\n",
    "print(\"y_train : \" + str(y_train.shape))\n",
    "print(\"y_test : \" + str(y_test.shape))"
   ]
  },
  {
   "cell_type": "code",
   "execution_count": null,
   "id": "4963dfc4",
   "metadata": {},
   "outputs": [],
   "source": [
    "from sklearn.linear_model import LinearRegression\n",
    "\n",
    "lm = LinearRegression()\n",
    "lm.fit(X_train, y_train)"
   ]
  },
  {
   "cell_type": "code",
   "execution_count": null,
   "id": "c3c2f381",
   "metadata": {},
   "outputs": [],
   "source": [
    "y_train_pred = lm.predict(X_train)\n",
    "y_test_pred = lm.predict(X_test)"
   ]
  },
  {
   "cell_type": "code",
   "execution_count": null,
   "id": "bee9ef91",
   "metadata": {},
   "outputs": [],
   "source": [
    "mse_train = np.mean((y_train_pred - y_train)**2)\n",
    "print(\"MSE on Training set : \", mse_train )\n",
    "\n",
    "\n",
    "mse_test = np.mean((y_test_pred - y_test)**2)\n",
    "\n",
    "print(\"MSE on Test set : \", mse_test )\n",
    "\n",
    "print(lm.score(X_test,y_test))"
   ]
  },
  {
   "cell_type": "code",
   "execution_count": null,
   "id": "742a5237",
   "metadata": {},
   "outputs": [],
   "source": [
    "# Plot residuals\n",
    "plt.scatter(y_train_pred, y_train_pred - y_train, c = \"blue\", marker = \"s\", label = \"Training data\")\n",
    "plt.scatter(y_test_pred, y_test_pred - y_test, c = \"lightgreen\", marker = \"s\", label = \"Validation data\")\n",
    "plt.title(\"Linear regression\")\n",
    "plt.xlabel(\"Predicted values\")\n",
    "plt.ylabel(\"Residuals\")\n",
    "plt.legend(loc = \"upper left\")\n",
    "plt.hlines(y = 0, xmin = 10.5, xmax = 13.5, color = \"red\")\n",
    "plt.show()\n",
    "\n",
    "# Plot predictions\n",
    "plt.scatter(y_train_pred, y_train, c = \"blue\", marker = \"s\", label = \"Training data\")\n",
    "plt.scatter(y_test_pred, y_test, c = \"lightgreen\", marker = \"s\", label = \"Validation data\")\n",
    "plt.title(\"Linear regression\")\n",
    "plt.xlabel(\"Predicted values\")\n",
    "plt.ylabel(\"Real values\")\n",
    "plt.legend(loc = \"upper left\")\n",
    "plt.plot([10.5, 13.5], [10.5, 13.5], c = \"red\")\n",
    "plt.show()"
   ]
  },
  {
   "cell_type": "code",
   "execution_count": null,
   "id": "7aca66c9",
   "metadata": {},
   "outputs": [],
   "source": [
    "from sklearn.linear_model import RidgeCV\n",
    "\n",
    "ridge = RidgeCV(alphas = [1e-15, 1e-10, 1e-8, 1e-4, 1e-3,1e-2, 1, 5, 10, 20, 30, 40, 50, 60])\n",
    "ridge.fit(X_train, y_train)\n",
    "alpha = ridge.alpha_\n",
    "print(\"Best alpha :\", alpha)"
   ]
  },
  {
   "cell_type": "code",
   "execution_count": null,
   "id": "01b5162e",
   "metadata": {},
   "outputs": [],
   "source": [
    "ridge.fit(X_train, y_train)"
   ]
  },
  {
   "cell_type": "code",
   "execution_count": null,
   "id": "f8373fee",
   "metadata": {},
   "outputs": [],
   "source": [
    "y_train_ridge_pred = ridge.predict(X_train)\n",
    "y_test_ridge_pred = ridge.predict(X_test)"
   ]
  },
  {
   "cell_type": "code",
   "execution_count": null,
   "id": "7d2a244c",
   "metadata": {},
   "outputs": [],
   "source": [
    "mse_train = np.mean((y_train_ridge_pred - y_train)**2)\n",
    "print(\"MSE on Training set : \", mse_train )\n",
    "\n",
    "\n",
    "mse_test = np.mean((y_test_ridge_pred - y_test)**2)\n",
    "\n",
    "print(\"MSE on Test set : \", mse_test )\n",
    "\n",
    "print(ridge.score(X_test,y_test))\n",
    "\n",
    "#MSE on the test set slightly reduced"
   ]
  },
  {
   "cell_type": "code",
   "execution_count": null,
   "id": "25fc3464",
   "metadata": {},
   "outputs": [],
   "source": [
    "# Plot residuals\n",
    "plt.scatter(y_train_ridge_pred, y_train_ridge_pred - y_train, c = \"blue\", marker = \"s\", label = \"Training data\")\n",
    "plt.scatter(y_test_ridge_pred, y_test_ridge_pred - y_test, c = \"lightgreen\", marker = \"s\", label = \"Validation data\")\n",
    "plt.title(\"Linear regression\")\n",
    "plt.xlabel(\"Predicted values\")\n",
    "plt.ylabel(\"Residuals\")\n",
    "plt.legend(loc = \"upper left\")\n",
    "plt.hlines(y = 0, xmin = 10.5, xmax = 13.5, color = \"red\")\n",
    "plt.show()\n",
    "\n",
    "# Plot predictions\n",
    "plt.scatter(y_train_ridge_pred, y_train, c = \"blue\", marker = \"s\", label = \"Training data\")\n",
    "plt.scatter(y_test_ridge_pred, y_test, c = \"lightgreen\", marker = \"s\", label = \"Validation data\")\n",
    "plt.title(\"Linear regression\")\n",
    "plt.xlabel(\"Predicted values\")\n",
    "plt.ylabel(\"Real values\")\n",
    "plt.legend(loc = \"upper left\")\n",
    "plt.plot([10.5, 13.5], [10.5, 13.5], c = \"red\")\n",
    "plt.show()"
   ]
  },
  {
   "cell_type": "code",
   "execution_count": null,
   "id": "6f22c108",
   "metadata": {},
   "outputs": [],
   "source": [
    "# Plot important coefficients\n",
    "coefs = pd.Series(ridge.coef_, index = X_train.columns)\n",
    "print(\"Ridge picked \" + str(sum(coefs != 0)) + \" features and eliminated the other \" +  \\\n",
    "      str(sum(coefs == 0)) + \" features\")\n",
    "imp_coefs = pd.concat([coefs.sort_values().head(10),\n",
    "                     coefs.sort_values().tail(10)])\n",
    "imp_coefs.plot(kind = \"barh\")\n",
    "plt.title(\"Coefficients in the Ridge Model\")\n",
    "plt.show()"
   ]
  },
  {
   "cell_type": "code",
   "execution_count": null,
   "id": "1e4a41f1",
   "metadata": {},
   "outputs": [],
   "source": [
    "from sklearn.linear_model import LassoCV\n",
    "\n",
    "\n",
    "lasso = LassoCV(alphas = [0.0001, 0.0002,0.0004, 0.0006, 0.001, 0.002,0.004, 0.006, 0.01, 0.02,0.04, 0.06, 0.1, \n",
    "                          0.2,0.4, 0.6, 1], \n",
    "                max_iter = 50000, cv = 10)\n",
    "lasso.fit(X_train, y_train)\n",
    "alpha = lasso.alpha_\n",
    "print(\"Best alpha :\", alpha)"
   ]
  },
  {
   "cell_type": "code",
   "execution_count": null,
   "id": "9929610f",
   "metadata": {},
   "outputs": [],
   "source": [
    "lasso.fit(X_train, y_train)"
   ]
  },
  {
   "cell_type": "code",
   "execution_count": null,
   "id": "609a6e74",
   "metadata": {},
   "outputs": [],
   "source": [
    "y_train_lasso_pred = lasso.predict(X_train)\n",
    "y_test_lasso_pred = lasso.predict(X_test)"
   ]
  },
  {
   "cell_type": "code",
   "execution_count": null,
   "id": "75611cc4",
   "metadata": {},
   "outputs": [],
   "source": [
    "mse_train = np.mean((y_train_lasso_pred - y_train)**2)\n",
    "print(\"MSE on Training set : \", mse_train )\n",
    "\n",
    "\n",
    "mse_test = np.mean((y_test_lasso_pred - y_test)**2)\n",
    "\n",
    "print(\"MSE on Test set : \", mse_test )\n",
    "\n",
    "print(lasso.score(X_test,y_test))\n",
    "\n",
    "#MSE on the test set slightly reduced"
   ]
  },
  {
   "cell_type": "code",
   "execution_count": null,
   "id": "ed5f0602",
   "metadata": {},
   "outputs": [],
   "source": [
    "# Plot important coefficients\n",
    "coefs = pd.Series(lasso.coef_, index = X_train.columns)\n",
    "print(\"Lasso picked \" + str(sum(coefs != 0)) + \" features and eliminated the other \" +  \\\n",
    "      str(sum(coefs == 0)) + \" features\")\n",
    "imp_coefs = pd.concat([coefs.sort_values().head(10),\n",
    "                     coefs.sort_values().tail(10)])\n",
    "imp_coefs.plot(kind = \"barh\")\n",
    "plt.title(\"Coefficients in the Lasso Model\")\n",
    "plt.show()"
   ]
  },
  {
   "cell_type": "code",
   "execution_count": null,
   "id": "3e2ed8f0",
   "metadata": {},
   "outputs": [],
   "source": [
    "from xgboost import XGBRegressor"
   ]
  },
  {
   "cell_type": "code",
   "execution_count": null,
   "id": "4a4bd40c",
   "metadata": {},
   "outputs": [],
   "source": [
    "# A parameter grid for XGBoost\n",
    "params = {'min_child_weight':[4,5], 'gamma':[i/10.0 for i in range(3,6)],  'subsample':[i/10.0 for i in range(6,11)],\n",
    "'colsample_bytree':[i/10.0 for i in range(6,11)], 'max_depth': [2,3,4]}"
   ]
  },
  {
   "cell_type": "code",
   "execution_count": null,
   "id": "fd085e79",
   "metadata": {},
   "outputs": [],
   "source": [
    "xgb = XGBRegressor(nthread=-1) \n",
    "\n",
    "grid = GridSearchCV(xgb, params)\n",
    "grid.fit(X_train, y_train)"
   ]
  },
  {
   "cell_type": "code",
   "execution_count": null,
   "id": "414ace76",
   "metadata": {},
   "outputs": [],
   "source": [
    "y_train_xgb_pred = grid.predict(X_train)\n",
    "y_test_xgb_pred = grid.predict(X_test)"
   ]
  },
  {
   "cell_type": "code",
   "execution_count": null,
   "id": "17963bc8",
   "metadata": {},
   "outputs": [],
   "source": [
    "mse_train = np.mean((y_train_xgb_pred - y_train)**2)\n",
    "print(\"MSE on Training set : \", mse_train )\n",
    "\n",
    "\n",
    "mse_test = np.mean((y_test_xgb_pred - y_test)**2)\n",
    "\n",
    "print(\"MSE on Test set : \", mse_test )\n",
    "\n",
    "print(grid.score(X_test,y_test))\n",
    "\n",
    "#MSE on the test set slightly reduced"
   ]
  }
 ],
 "metadata": {
  "kernelspec": {
   "display_name": "Python 3 (ipykernel)",
   "language": "python",
   "name": "python3"
  },
  "language_info": {
   "codemirror_mode": {
    "name": "ipython",
    "version": 3
   },
   "file_extension": ".py",
   "mimetype": "text/x-python",
   "name": "python",
   "nbconvert_exporter": "python",
   "pygments_lexer": "ipython3",
   "version": "3.9.7"
  }
 },
 "nbformat": 4,
 "nbformat_minor": 5
}
